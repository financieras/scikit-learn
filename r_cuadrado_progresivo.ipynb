{
  "nbformat": 4,
  "nbformat_minor": 0,
  "metadata": {
    "colab": {
      "provenance": [],
      "authorship_tag": "ABX9TyMocvabzJkhHQJRZk0ltNxd",
      "include_colab_link": true
    },
    "kernelspec": {
      "name": "python3",
      "display_name": "Python 3"
    },
    "language_info": {
      "name": "python"
    }
  },
  "cells": [
    {
      "cell_type": "markdown",
      "metadata": {
        "id": "view-in-github",
        "colab_type": "text"
      },
      "source": [
        "<a href=\"https://colab.research.google.com/github/financieras/scikit-learn/blob/main/r_cuadrado_progresivo.ipynb\" target=\"_parent\"><img src=\"https://colab.research.google.com/assets/colab-badge.svg\" alt=\"Open In Colab\"/></a>"
      ]
    },
    {
      "cell_type": "markdown",
      "source": [
        "# Análisis progresivo del coeficiente de determinación $R^2$ con regresión lineal en el California Housing Dataset\n",
        "\n",
        "## Objetivo del proyecto\n",
        "\n",
        "El propósito de este pequeño proyecto es **demostrar cómo el coeficiente de determinación $R^2$** en modelos de regresión lineal puede mejorar al ir incorporando progresivamente más variables explicativas (columnas) al modelo.  \n",
        "Se utiliza un dataset real y típico para regresión, entrenando modelos de regresión lineal simple y luego regresión lineal múltiple, para mostrar el efecto en el valor de $R^2$.\n",
        "\n",
        "***\n",
        "\n",
        "## ¿Qué es el California Housing Dataset?\n",
        "\n",
        "El California Housing Dataset es un conjunto de datos obtenido del censo de 1990 de California, que contiene información a nivel distrital sobre características demográficas y de vivienda.  \n",
        "Tiene 8 variables numéricas que describen aspectos como ingreso mediano, edad de las casas, promedio de habitaciones, población, entre otras. La variable objetivo es el valor medio de las casas en cada distrito.  \n",
        "Este dataset es muy usado como ejemplo clásico para regresiones lineales porque tiene suficiente complejidad para ser interesante pero es manejable en tamaño y limpieza.\n",
        "\n",
        "***\n",
        "\n",
        "## Breve introducción a scikit-learn (sklearn)\n",
        "\n",
        "Scikit-learn es una biblioteca de Python para aprendizaje automático que incluye implementaciones eficientes y fáciles de usar de una gran variedad de modelos y herramientas, incluyendo regresión lineal.  \n",
        "Facilita tareas como: carga y división de datos, preprocesamiento, entrenamiento de modelos, predicción y evaluación, con funciones simples y bien documentadas. Es estándar en data science para experimentos rápidos y prototipos.\n",
        "\n",
        "***\n",
        "\n",
        "## ¿Qué es el coeficiente de determinación $R^2$?\n",
        "\n",
        "El coeficiente de determinación $R^2$ es una métrica utilizada para evaluar la calidad del ajuste de un modelo de regresión.  \n",
        "Indica la proporción de la variabilidad total de la variable objetivo que es explicada por el modelo.  \n",
        "- Un valor de $R^2 = 1$ implica un ajuste perfecto (todas las predicciones coinciden exactamente con los valores reales).  \n",
        "- Un valor cercano a 0 indica que el modelo no explica nada de la variabilidad.  \n",
        "- Valores negativos pueden indicar que el modelo ajusta peor que simplemente usar la media.\n",
        "\n",
        "***\n",
        "\n",
        "## Regresión lineal simple y múltiple, y la relación con $R^2$\n",
        "\n",
        "- La **regresión lineal simple** utiliza una única variable predictora para predecir la variable objetivo.  \n",
        "- La **regresión lineal múltiple** implica usar varias variables predictoras al mismo tiempo para mejorar la predicción.  \n",
        "\n",
        "Generalmente, al añadir más variables explicativas relevantes, el modelo puede capturar mejor la variabilidad del fenómeno estudiado, por lo que el $R^2$ suele aumentar.  \n",
        "Sin embargo, agregar variables irrelevantes o redundantes puede no mejorar el modelo o producir sobreajuste, por eso es importante una selección adecuada de variables y validación.\n",
        "\n",
        "***\n",
        "\n",
        "## Explicación del código usado\n",
        "\n",
        "El código implementa un bucle que:  \n",
        "1. Carga el California Housing Dataset.  \n",
        "2. Divide los datos en conjuntos de entrenamiento y prueba.  \n",
        "3. Define un orden para las variables predictoras que se van a añadir progresivamente.  \n",
        "4. Para cada conjunto creciente de variables:  \n",
        "    - Entrena un modelo de regresión lineal con esas variables.  \n",
        "    - Evalúa el modelo calculando $R^2$ sobre el conjunto de prueba.  \n",
        "5. Imprime los resultados en una tabla clara que muestra cómo varía $R^2$ al agregar variables.\n",
        "\n",
        "Esta aproximación permite ver cómo mejora la capacidad predictiva a medida que se le brinda más información al modelo, desde una regresión lineal simple hasta una múltiple que incluye todas las variables seleccionadas.\n",
        "\n",
        "***\n",
        "\n",
        "## Interpretación de los resultados obtenidos\n",
        "\n",
        "Los resultados muestran claramente que:  \n",
        "- Con solo la variable \"MedInc\" (ingreso mediano), el modelo ya explica aproximadamente un 46% de la variabilidad del precio medio ($R^2 ≈ 0.4589$).  \n",
        "- Al agregar más variables relevantes como \"HouseAge\" y \"AveRooms\", $R^2$ incrementa paulatinamente, indicando una mejora en la capacidad explicativa.  \n",
        "- La inclusión de todas las variables listadas produce un modelo con un $R^2 ≈ 0.5758$, es decir, explica cerca del 58% de la variabilidad en el precio de las casas.  \n",
        "\n",
        "Este comportamiento es típico: añadir variables relevantes mejora el ajuste y el coeficiente de determinación.  \n",
        "Sin embargo, la mejora puede ser marginal al añadir variables adicionales conforme estas aportan menos información nueva, y siempre hay que validar para evitar sobreajuste.\n"
      ],
      "metadata": {
        "id": "InW4xdhMF4Hi"
      }
    },
    {
      "cell_type": "code",
      "source": [
        "from sklearn.datasets import fetch_california_housing\n",
        "from sklearn.model_selection import train_test_split\n",
        "from sklearn.linear_model import LinearRegression\n",
        "from sklearn.metrics import r2_score\n",
        "from sklearn.preprocessing import StandardScaler\n",
        "from sklearn.pipeline import make_pipeline\n",
        "\n",
        "# 1. Cargar el dataset\n",
        "housing = fetch_california_housing(as_frame=True)\n",
        "X = housing.data\n",
        "y = housing.target\n",
        "\n",
        "# 2. Dividir en train y test (80% entrenamiento, 20% prueba)\n",
        "X_train, X_test, y_train, y_test = train_test_split(\n",
        "    X, y, test_size=0.2, random_state=42\n",
        ")\n",
        "\n",
        "# 3. Crear un pipeline con escalado y regresión lineal múltiple\n",
        "modelo = make_pipeline(StandardScaler(), LinearRegression())\n",
        "\n",
        "# 4. Entrenar (fit)\n",
        "modelo.fit(X_train, y_train)\n",
        "\n",
        "# 5. Predecir con el modelo entrenado\n",
        "y_pred = modelo.predict(X_test)\n",
        "\n",
        "# 6. Calcular R² usando r2_score\n",
        "r2_funcion = r2_score(y_test, y_pred)\n",
        "\n",
        "# 7. Calcular R² usando el método .score() del modelo\n",
        "r2_metodo = modelo.score(X_test, y_test)\n",
        "\n",
        "# 8. Mostrar resultados\n",
        "print(f\"R² en test (r2_score): \\t\\t{r2_funcion:.4f}\")\n",
        "print(f\"R² en test (método .score): \\t{r2_metodo:.4f}\")"
      ],
      "metadata": {
        "colab": {
          "base_uri": "https://localhost:8080/"
        },
        "id": "kCvW3gt_33Wh",
        "outputId": "ea208044-f667-44ee-a6ba-b8bce76283fa"
      },
      "execution_count": null,
      "outputs": [
        {
          "output_type": "stream",
          "name": "stdout",
          "text": [
            "R² en test (r2_score): \t\t0.5758\n",
            "R² en test (método .score): \t0.5758\n"
          ]
        }
      ]
    },
    {
      "cell_type": "code",
      "source": [
        "from sklearn.datasets import fetch_california_housing\n",
        "from sklearn.linear_model import LinearRegression\n",
        "from sklearn.metrics import r2_score\n",
        "from sklearn.model_selection import train_test_split\n",
        "import pandas as pd\n",
        "\n",
        "# 1. Cargar el dataset California Housing\n",
        "housing = fetch_california_housing(as_frame=True)\n",
        "X_full = housing.data\n",
        "y = housing.target\n",
        "\n",
        "# Lista ordenada de columnas para añadir progresivamente\n",
        "feature_order = [\n",
        "    \"MedInc\",    # ingreso mediano (importante, suele dar buen R^2 solo)\n",
        "    \"HouseAge\",  # edad mediana\n",
        "    \"AveRooms\",  # promedio de habitaciones\n",
        "    \"AveBedrms\", # promedio de dormitorios\n",
        "    \"Population\",# población del bloque\n",
        "    \"AveOccup\",  # promedio de personas por hogar\n",
        "    \"Latitude\",  # latitud\n",
        "    \"Longitude\"  # longitud\n",
        "]\n",
        "\n",
        "# Dividir el dataset completo en train y test para evitar filtrado\n",
        "X_train_full, X_test_full, y_train, y_test = train_test_split(X_full, y, test_size=0.2, random_state=42)\n",
        "\n",
        "print(f\"{'Variables usadas':50} {'R² en test':>39}\")\n",
        "print(\"-\" * 91)\n",
        "\n",
        "# Ir añadiendo columnas una a una y hacer regresión lineal\n",
        "for i in range(1, len(feature_order) + 1):\n",
        "    features = feature_order[:i]\n",
        "\n",
        "    # Seleccionar únicamente las columnas actuales para train y test\n",
        "    X_train = X_train_full[features]\n",
        "    X_test = X_test_full[features]\n",
        "\n",
        "    # Crear y entrenar el modelo\n",
        "    model = LinearRegression()\n",
        "    model.fit(X_train, y_train)\n",
        "\n",
        "    # Predecir y calcular R² en test\n",
        "    y_pred = model.predict(X_test)\n",
        "    r2 = r2_score(y_test, y_pred)\n",
        "\n",
        "    #print(f\"{str(features):98} {r2:10.4f}\")\n",
        "    #print(*features, f\"{r2:9.4f}\")\n",
        "    print(f\"{', '.join(features):80} {r2:7.4f}\")"
      ],
      "metadata": {
        "colab": {
          "base_uri": "https://localhost:8080/"
        },
        "id": "pcPzL4M2_QlX",
        "outputId": "8e108c2d-5253-4368-db20-adb843f361c3"
      },
      "execution_count": null,
      "outputs": [
        {
          "output_type": "stream",
          "name": "stdout",
          "text": [
            "Variables usadas                                                                R² en test\n",
            "-------------------------------------------------------------------------------------------\n",
            "MedInc                                                                            0.4589\n",
            "MedInc, HouseAge                                                                  0.4941\n",
            "MedInc, HouseAge, AveRooms                                                        0.4972\n",
            "MedInc, HouseAge, AveRooms, AveBedrms                                             0.5089\n",
            "MedInc, HouseAge, AveRooms, AveBedrms, Population                                 0.5090\n",
            "MedInc, HouseAge, AveRooms, AveBedrms, Population, AveOccup                       0.5099\n",
            "MedInc, HouseAge, AveRooms, AveBedrms, Population, AveOccup, Latitude             0.5139\n",
            "MedInc, HouseAge, AveRooms, AveBedrms, Population, AveOccup, Latitude, Longitude  0.5758\n"
          ]
        }
      ]
    },
    {
      "cell_type": "markdown",
      "source": [],
      "metadata": {
        "id": "8GNAuIrhFvkq"
      }
    }
  ]
}