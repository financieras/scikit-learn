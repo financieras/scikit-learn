{
  "nbformat": 4,
  "nbformat_minor": 0,
  "metadata": {
    "colab": {
      "provenance": [],
      "include_colab_link": true
    },
    "kernelspec": {
      "name": "python3",
      "display_name": "Python 3"
    },
    "language_info": {
      "name": "python"
    }
  },
  "cells": [
    {
      "cell_type": "markdown",
      "metadata": {
        "id": "view-in-github",
        "colab_type": "text"
      },
      "source": [
        "<a href=\"https://colab.research.google.com/github/financieras/scikit-learn/blob/main/tutorial_scikit_learn_desde_cero.ipynb\" target=\"_parent\"><img src=\"https://colab.research.google.com/assets/colab-badge.svg\" alt=\"Open In Colab\"/></a>"
      ]
    },
    {
      "cell_type": "markdown",
      "source": [
        "# TUTORIAL: ¡SCIKIT-LEARN DESDE CERO!\n",
        "[Tutorial: ¡SCIKIT-LEARN DESDE CERO!](https://youtu.be/qUjIybMkXBs?si=KdTn9D4M2vqMwDnn)\n",
        "\n",
        "En este tutorial veremos paso a paso todos los elementos básicos que usualmente hay que tener en cuenta para crear, entrenar, validar y poner a prueba prácticamente cualquier modelo de Machine Learning clásico usando esta librería.\n",
        "\n",
        "Contenido:\n",
        "\n",
        "1. [¿Qué es Scikit-Learn?](#scrollTo=Mwb3z4nhqir3&line=1&uniqifier=1)\n",
        "2. [El flujo de trabajo convencional en Scikit-Learn](#scrollTo=l7BA3TMarh4z&line=1&uniqifier=1)\n",
        "3. [Pre-procesamiento: generar particiones](#scrollTo=Eqs5h_Ijv6Mc&line=1&uniqifier=1)\n",
        "4. [Pre-procesamiento: transformadores](#scrollTo=Xn2shF8Vz-UQ&line=1&uniqifier=1)\n",
        "5. [Crear, entrenar y validar el modelo: estimadores](#scrollTo=BtFsAQYJg-JL&line=1&uniqifier=1)\n",
        "6. [*Pipelines*](#scrollTo=Zy6KK9A7jtdr&line=1&uniqifier=1)\n"
      ],
      "metadata": {
        "id": "fhYpws-kWuj4"
      }
    },
    {
      "cell_type": "markdown",
      "source": [
        "## 1. ¿Qué es Scikit-Learn?\n",
        "> Scikit-learn es una librería de Machine Learning de código abierto que contiene herramientas para **pre-procesamiento** de datos, **entrenamiento** y generación de **predicciones** con diferentes modelos **clásicos** y **selección y validación** de modelos, entre otras.\n",
        "\n",
        "Este es el panorama general de los diferentes algoritmos de Machine Learning implementados en Scikit-Learn:\n",
        "\n",
        "<figure>\n",
        "<img src=\"https://scikit-learn.org/1.3/_static/ml_map.png\" style=\"width:100%\">\n",
        "<figcaption align = \"center\"> Los diferentes algoritmos de Scikit-Learn (tomada del sitio web oficial de la librería) </figcaption>\n",
        "</figure>"
      ],
      "metadata": {
        "id": "Mwb3z4nhqir3"
      }
    },
    {
      "cell_type": "markdown",
      "source": [
        "## 2. El flujo de trabajo convencional en Scikit-Learn\n",
        "\n",
        "![](https://drive.google.com/uc?export=view&id=1uyNbPoI1zX8BG4ISyD9Kud54ydI67mqu)\n",
        "\n",
        "En esencia:\n",
        "\n",
        "- Podemos implementar modelos para tareas de aprendizaje supervisado (como clasificación o regresión) o para aprendizaje NO supervisado (como *clustering*)\n",
        "- En el **pre-procesamiento** generalmente debemos **generar particiones** de los sets de datos (en entrenamiento, validación y prueba) o realizar **transformaciones** de los datos (como el escalamiento)\n",
        "- Luego **creamos una instancia del algoritmo**, **entrenamos** el modelo y lo **validamos** con los sets de entrenamiento, validación y/o prueba\n",
        "- Finalmente, el modelo está listo para **generar predicciones**\n",
        "\n",
        "Veamos de forma práctica los elementos básicos de cada una de estas etapas."
      ],
      "metadata": {
        "id": "l7BA3TMarh4z"
      }
    },
    {
      "cell_type": "markdown",
      "source": [
        "## 3. Pre-procesamiento: generar particiones\n",
        "\n",
        "Una tarea común consiste en dividir el set de datos en los sets de entrenamiento, validación y prueba.\n",
        "\n",
        "Esto lo podemos hacer con la función `train_test_split`.\n",
        "\n",
        "Para entender cómo usarla comencemos leyendo el set de datos `particiones_datos_balanceados.npz` (arreglo de NumPy):\n",
        "\n"
      ],
      "metadata": {
        "id": "Eqs5h_Ijv6Mc"
      }
    },
    {
      "cell_type": "code",
      "source": [
        "import numpy as np\n",
        "\n",
        "X = np.load('/content/particiones-datos-balanceados.npz')['X']\n",
        "Y = np.load('/content/particiones-datos-balanceados.npz')['Y']\n",
        "\n",
        "print(X.shape)\n",
        "print(Y.shape)\n",
        "print()\n",
        "\n",
        "print(X)\n",
        "print()\n",
        "\n",
        "print(Y)"
      ],
      "metadata": {
        "id": "nOYvyDDawYq_",
        "colab": {
          "base_uri": "https://localhost:8080/"
        },
        "outputId": "59c21c14-87ce-4fdf-b572-580831d65e53"
      },
      "execution_count": 5,
      "outputs": [
        {
          "output_type": "stream",
          "name": "stdout",
          "text": [
            "(20, 3)\n",
            "(20,)\n",
            "\n",
            "[[-0.75275929  1.11852895 -7.5592353 ]\n",
            " [ 2.70428584 -3.60506139 -0.0964618 ]\n",
            " [ 1.39196365 -2.07855351 -9.31222958]\n",
            " [ 0.59195091 -1.33638157  8.18640804]\n",
            " [-2.06388816 -0.43930016 -4.82440037]\n",
            " [-2.06403288  2.85175961  3.25044569]\n",
            " [-2.65149833 -3.00326218 -3.76577848]\n",
            " [ 2.19705687  0.14234438  0.40136042]\n",
            " [ 0.60669007  0.92414569  0.93420559]\n",
            " [ 1.24843547 -4.53549587 -6.30291089]\n",
            " [-2.87649303  1.07544852  9.39169256]\n",
            " [ 2.81945911 -3.29475876  5.50265647]\n",
            " [ 1.99465584 -4.34948407  8.78997883]\n",
            " [-1.72596534  4.48885537  7.89654701]\n",
            " [-1.9090502   4.65632033  1.95799958]\n",
            " [-1.89957294  3.08397348  8.4374847 ]\n",
            " [-1.17454654 -1.95386231 -8.23014996]\n",
            " [ 0.14853859 -4.02327886 -6.08034275]\n",
            " [-0.40832989  1.84233027 -9.09545422]\n",
            " [-1.25262516 -0.59847506 -3.49339338]]\n",
            "\n",
            "[1 1 1 0 1 0 0 1 0 1 0 0 1 0 1 1 0 0 0 0]\n"
          ]
        }
      ]
    },
    {
      "cell_type": "markdown",
      "source": [
        "En este caso tenemos un set de datos supervisado, con:\n",
        "\n",
        "- `X`: el arreglo de entrada al modelo (20 datos x 3 características)\n",
        "- `Y`: la variable que deberá aprender a predecir el modelo (20 datos)\n",
        "\n",
        "> **Nota importante:** los arreglos siempre deben estar dimensionados como *n_datos x n_características* (X) y *n_datos* (Y)\n",
        "\n",
        "Supongamos que queremos realizar la partición con estas proporciones:\n",
        "\n",
        "- Entrenamiento: 60%\n",
        "- Validación: 20%\n",
        "- Prueba: 20%\n",
        "\n",
        "En este caso debemos usar `train_test_split` dos veces:\n",
        "\n",
        "- En el primer paso partimos el set de datos en 2: 60% (entrenamiento) y 40% (resto)\n",
        "- En el segundo paso partimos el set de datos restante en 2 mitades: 50% (20% del dataset original, validación) y 50% (20% del dataset original, prueba)\n",
        "\n",
        "Veamos cómo implementar esta partición:"
      ],
      "metadata": {
        "id": "LfHm72h6wieb"
      }
    },
    {
      "cell_type": "code",
      "source": [
        "from sklearn.model_selection import train_test_split\n",
        "\n",
        "# Partición 60% (train) y resto (40%)\n",
        "x_train, x_resto, y_train, y_resto = train_test_split(\n",
        "    X, Y, test_size=0.4, random_state=123\n",
        ")\n",
        "\n",
        "# Partición \"resto\" en 2 mitades\n",
        "x_val, x_test, y_val, y_test = train_test_split(\n",
        "    x_resto, y_resto, test_size=0.5, random_state=321\n",
        ")\n",
        "\n",
        "# Verificación\n",
        "print('Tamaños: ')\n",
        "print('\\tDataset original: ', X.shape, Y.shape)\n",
        "print('\\tEntrenamiento: ', x_train.shape, y_train.shape)\n",
        "print('\\tValidación: ', x_val.shape, y_val.shape)\n",
        "print('\\tPrueba: ', x_test.shape, y_test.shape)\n",
        "\n",
        "print('Proporciones categorías (0s/1s): ')\n",
        "print(f'\\tDataset original: {np.sum(Y==0)/len(Y)}/{np.sum(Y==1)/len(Y)}')\n",
        "print(f'\\tEntrenamiento: {np.sum(y_train==0)/len(y_train)}/{np.sum(y_train==1)/len(y_train)}')\n",
        "print(f'\\tValidación: {np.sum(y_val==0)/len(y_val)}/{np.sum(y_val==1)/len(y_val)}')\n",
        "print(f'\\tPrueba: {np.sum(y_test==0)/len(y_test)}/{np.sum(y_test==1)/len(y_test)}')\n"
      ],
      "metadata": {
        "id": "WGMB-keSa-84",
        "colab": {
          "base_uri": "https://localhost:8080/"
        },
        "outputId": "e4c8851e-af5a-4fe2-f693-a42bf0e3f22d"
      },
      "execution_count": null,
      "outputs": [
        {
          "output_type": "stream",
          "name": "stdout",
          "text": [
            "Tamaños: \n",
            "\tDataset original:  (20, 3) (20,)\n",
            "\tEntrenamiento:  (12, 3) (12,)\n",
            "\tValidación:  (4, 3) (4,)\n",
            "\tPrueba:  (4, 3) (4,)\n",
            "Proporciones categorías (0s/1s): \n",
            "\tDataset original: 0.55/0.45\n",
            "\tEntrenamiento: 0.5833333333333334/0.4166666666666667\n",
            "\tValidación: 0.5/0.5\n",
            "\tPrueba: 0.5/0.5\n"
          ]
        }
      ]
    },
    {
      "cell_type": "markdown",
      "source": [
        "En el caso anterior lo que hace `train_test_split` es:\n",
        "\n",
        "1. Mezclar aleatoriamente el set de datos\n",
        "2. Generar las particiones con las proporciones correspondientes\n",
        "\n",
        "Es decir, en últimas crea cada subset usando **muestreo aleatorio**.\n",
        "\n",
        "Este muestreo aleatorio es adecuado si por ejemplo estamos implementando un clasificador y las categorías están balanceadas, es decir, tienen más o menos la misma proporción de una categoría o de otra (como es el caso del ejemplo anterior).\n",
        "\n",
        "Sin embargo, este muestreo aleatorio no es adecuado si tenemos datos desbalanceados, es decir con una proporción mayor de una categoría que de otra.\n",
        "\n",
        "Por ejemplo, leamos el dataset `particiones-datos-desbalanceados.npz` y veamos la proporción de los datos:"
      ],
      "metadata": {
        "id": "OT5__Hatx11i"
      }
    },
    {
      "cell_type": "code",
      "source": [
        "# Leer datos desbalanceados\n",
        "X = np.load('/content/particiones-datos-desbalanceados.npz')['X']\n",
        "Y = np.load('/content/particiones-datos-desbalanceados.npz')['Y']\n",
        "\n",
        "print(X)\n",
        "print(Y)"
      ],
      "metadata": {
        "id": "SjXwfqwOcSoW",
        "colab": {
          "base_uri": "https://localhost:8080/"
        },
        "outputId": "31799b3d-01f3-4ecc-ff02-7ed75272a8e3"
      },
      "execution_count": null,
      "outputs": [
        {
          "output_type": "stream",
          "name": "stdout",
          "text": [
            "[[-0.75275929  1.11852895 -7.5592353 ]\n",
            " [ 2.70428584 -3.60506139 -0.0964618 ]\n",
            " [ 1.39196365 -2.07855351 -9.31222958]\n",
            " [ 0.59195091 -1.33638157  8.18640804]\n",
            " [-2.06388816 -0.43930016 -4.82440037]\n",
            " [-2.06403288  2.85175961  3.25044569]\n",
            " [-2.65149833 -3.00326218 -3.76577848]\n",
            " [ 2.19705687  0.14234438  0.40136042]\n",
            " [ 0.60669007  0.92414569  0.93420559]\n",
            " [ 1.24843547 -4.53549587 -6.30291089]\n",
            " [-2.87649303  1.07544852  9.39169256]\n",
            " [ 2.81945911 -3.29475876  5.50265647]\n",
            " [ 1.99465584 -4.34948407  8.78997883]\n",
            " [-1.72596534  4.48885537  7.89654701]\n",
            " [-1.9090502   4.65632033  1.95799958]\n",
            " [-1.89957294  3.08397348  8.4374847 ]\n",
            " [-1.17454654 -1.95386231 -8.23014996]\n",
            " [ 0.14853859 -4.02327886 -6.08034275]\n",
            " [-0.40832989  1.84233027 -9.09545422]\n",
            " [-1.25262516 -0.59847506 -3.49339338]]\n",
            "[1 0 1 0 1 0 0 0 0 1 0 0 0 0 0 0 0 0 0 0]\n"
          ]
        }
      ]
    },
    {
      "cell_type": "code",
      "source": [
        "# Proporción categorías 1 y 0\n",
        "print('Proporciones categorías (0s/1s) set desbalanceado: ')\n",
        "print(f'\\t{np.sum(Y==0)/len(Y)}/{np.sum(Y==1)/len(Y)}')"
      ],
      "metadata": {
        "id": "mu2Ak764yYHm",
        "colab": {
          "base_uri": "https://localhost:8080/"
        },
        "outputId": "7f9dd641-a902-417f-8caf-9fcd2108dba6"
      },
      "execution_count": null,
      "outputs": [
        {
          "output_type": "stream",
          "name": "stdout",
          "text": [
            "Proporciones categorías (0s/1s) set desbalanceado: \n",
            "\t0.8/0.2\n"
          ]
        }
      ]
    },
    {
      "cell_type": "markdown",
      "source": [
        "Claramente es un set desbalanceado: 85% categoría \"0\" y 15% categoría \"1\".\n",
        "\n",
        "Así que si hacemos la partición y queremos por ejemplo implementar un modelo de detección de anomalías **debemos preservar estas proporciones**.\n",
        "\n",
        "Esto se logra usando `train_test_split` pero usando un **muestreo estratificado**. En este caso simplemente usamos el argumento `stratify = Y` para que al hacer el muestreo la función tenga en cuenta las proporciones presentes en el arreglo `Y`:"
      ],
      "metadata": {
        "id": "Oe1BDv34ygtV"
      }
    },
    {
      "cell_type": "code",
      "source": [
        "# Partición con muestreo estratificado\n",
        "\n",
        "# Partición 60% (train) y resto (40%)\n",
        "x_train, x_resto, y_train, y_resto = train_test_split(\n",
        "    X, Y, test_size=0.4, random_state=20,\n",
        "    stratify=Y, #*** MUESTREO ESTRATIFICADO ***\n",
        ")\n",
        "\n",
        "# Partición \"resto\" en 2 mitades (también estratificado)\n",
        "x_val, x_test, y_val, y_test = train_test_split(\n",
        "    x_resto, y_resto, test_size=0.5, random_state=321,\n",
        "    stratify = y_resto, #*** MUESTREO ESTRATIFICADO ***\n",
        ")\n",
        "\n",
        "# Verificación\n",
        "print('Tamaños: ')\n",
        "print('\\tDataset original: ', X.shape, Y.shape)\n",
        "print('\\tEntrenamiento: ', x_train.shape, y_train.shape)\n",
        "print('\\tValidación: ', x_val.shape, y_val.shape)\n",
        "print('\\tPrueba: ', x_test.shape, y_test.shape)\n",
        "\n",
        "print('Proporciones categorías (0s/1s): ')\n",
        "print(f'\\tDataset original: {np.sum(Y==0)/len(Y)}/{np.sum(Y==1)/len(Y)}')\n",
        "print(f'\\tEntrenamiento: {np.sum(y_train==0)/len(y_train)}/{np.sum(y_train==1)/len(y_train)}')\n",
        "print(f'\\tValidación: {np.sum(y_val==0)/len(y_val)}/{np.sum(y_val==1)/len(y_val)}')\n",
        "print(f'\\tPrueba: {np.sum(y_test==0)/len(y_test)}/{np.sum(y_test==1)/len(y_test)}')\n"
      ],
      "metadata": {
        "id": "SK64AdYWdY4M",
        "colab": {
          "base_uri": "https://localhost:8080/"
        },
        "outputId": "f0f3f604-7a96-46a9-dfc8-003262e78d6b"
      },
      "execution_count": null,
      "outputs": [
        {
          "output_type": "stream",
          "name": "stdout",
          "text": [
            "Tamaños: \n",
            "\tDataset original:  (20, 3) (20,)\n",
            "\tEntrenamiento:  (12, 3) (12,)\n",
            "\tValidación:  (4, 3) (4,)\n",
            "\tPrueba:  (4, 3) (4,)\n",
            "Proporciones categorías (0s/1s): \n",
            "\tDataset original: 0.8/0.2\n",
            "\tEntrenamiento: 0.8333333333333334/0.16666666666666666\n",
            "\tValidación: 0.75/0.25\n",
            "\tPrueba: 0.75/0.25\n"
          ]
        }
      ]
    },
    {
      "cell_type": "markdown",
      "source": [
        "Vemos que el muestreo estratificado intenta mantener las proporciones de cada categoría al generar cada uno de los subsets.\n",
        "\n",
        "Y con esto ya hemos visto cómo implementar una primera fase de pre-procesamiento.\n",
        "\n",
        "Veamos una segunda fase que es el uso de **transformadores**."
      ],
      "metadata": {
        "id": "BHoRCjYOzpMs"
      }
    },
    {
      "cell_type": "markdown",
      "source": [
        "## 4. Pre-procesamiento: transformadores\n",
        "\n",
        "> Permiten transformar los datos: escalar (`RobustScaler`, `MinMaxScaler`, `StandardScaler`), codificar (`LabelEncoder`, `OneHotEncoder`) o reducir (`PCA`), entre otras\n",
        "\n",
        "Los pasos para usar un transformador son:\n",
        "\n",
        "1. Crear una instancia del transformador\n",
        "2. Usar el método `fit_transform()` para transformar el set de entrenamiento\n",
        "3. Usar el método `transform()` para transformar los sets de validación y prueba\n",
        "\n",
        "\n",
        "Por ejemplo, veamos los rangos de valores de cada columna en los sets de entrenamiento, validación y prueba (`x_train`, `x_val` y `x_test`):"
      ],
      "metadata": {
        "id": "Xn2shF8Vz-UQ"
      }
    },
    {
      "cell_type": "code",
      "source": [
        "print(f'x_train: {x_train.min(axis=0)}/{x_train.max(axis=0)}')\n",
        "print(f'x_val: {x_val.min(axis=0)}/{x_val.max(axis=0)}')\n",
        "print(f'x_test: {x_test.min(axis=0)}/{x_test.max(axis=0)}')"
      ],
      "metadata": {
        "id": "iN73mVMk2blN",
        "colab": {
          "base_uri": "https://localhost:8080/"
        },
        "outputId": "ece5463f-f0d2-48de-de3a-5f11bce47bc8"
      },
      "execution_count": null,
      "outputs": [
        {
          "output_type": "stream",
          "name": "stdout",
          "text": [
            "x_train: [-2.87649303 -4.34948407 -9.31222958]/[2.81945911 3.08397348 9.39169256]\n",
            "x_val: [-2.65149833 -3.00326218 -9.09545422]/[2.19705687 1.84233027 0.40136042]\n",
            "x_test: [-1.9090502  -4.53549587 -8.23014996]/[1.24843547 4.65632033 7.89654701]\n"
          ]
        }
      ]
    },
    {
      "cell_type": "markdown",
      "source": [
        "Vemos que las variables (columnas) tienen diferentes rangos: -3 a 3, -4 a 5 y -9 a 9 aproximadamente.\n",
        "\n",
        "Así que un tipo de pre-procesamiento sería, por ejemplo, escalar cada columna al mismo rango de valores antes de llevar los datos al modelo.\n",
        "\n",
        "Por ejemplo, supongamos que haremos el escalamiento en el rango de -1 a 1 para lo cual podemos usar el transformador `MinMaxScaler`.\n",
        "\n",
        "Veamos cada uno de los pasos a llevar a cabo. En primer lugar creamos una instancia del transformador:"
      ],
      "metadata": {
        "id": "jv3WkwkW3EXV"
      }
    },
    {
      "cell_type": "code",
      "source": [
        "from sklearn.preprocessing import MinMaxScaler\n",
        "\n",
        "scaler = MinMaxScaler(feature_range=(-1,1))"
      ],
      "metadata": {
        "id": "uOGAKg4V3oJc"
      },
      "execution_count": null,
      "outputs": []
    },
    {
      "cell_type": "markdown",
      "source": [
        "El segundo paso es usar el método `fit_transform()` aplicado sobre el set de entrenamiento (`x_train`). Este método:\n",
        "\n",
        "- Calculará y almacenará en la instancia los mínimos y máximos de cada columna de `x_train`\n",
        "- Y luego escalará `x_train` al rango de -1 a 1 usando los máximos y mínimos recién calculados\n",
        "\n",
        "Veamos este segundo paso:"
      ],
      "metadata": {
        "id": "_2mHRmhq3uHF"
      }
    },
    {
      "cell_type": "code",
      "source": [
        "# fit_transform() sobre el set de entrenamiento\n",
        "x_train_s = scaler.fit_transform(x_train)"
      ],
      "metadata": {
        "id": "wHxyATiA4BOB"
      },
      "execution_count": null,
      "outputs": []
    },
    {
      "cell_type": "code",
      "source": [
        "print(f'Mínimos de \"x_train\": {x_train.min(axis=0)}')\n",
        "print(f'Mínimos calculados por el escalador: {scaler.data_min_}')\n",
        "print('-'*50)\n",
        "print(f'Máximos de \"x_train\": {x_train.max(axis=0)}')\n",
        "print(f'Máximos calculados por el escalador: {scaler.data_max_}')"
      ],
      "metadata": {
        "id": "q0Wbh4I84PN8",
        "colab": {
          "base_uri": "https://localhost:8080/"
        },
        "outputId": "998f7964-40eb-4c5d-e190-1d4f254eaaba"
      },
      "execution_count": null,
      "outputs": [
        {
          "output_type": "stream",
          "name": "stdout",
          "text": [
            "Mínimos de \"x_train\": [-2.87649303 -4.34948407 -9.31222958]\n",
            "Mínimos calculados por el escalador: [-2.87649303 -4.34948407 -9.31222958]\n",
            "--------------------------------------------------\n",
            "Máximos de \"x_train\": [2.81945911 3.08397348 9.39169256]\n",
            "Máximos calculados por el escalador: [2.81945911 3.08397348 9.39169256]\n"
          ]
        }
      ]
    },
    {
      "cell_type": "markdown",
      "source": [
        "Y verifiquemos que `x_train_s` contiene ahora los datos escalados al rango de -1 a 1:"
      ],
      "metadata": {
        "id": "vfaYCBV64mA0"
      }
    },
    {
      "cell_type": "code",
      "source": [
        "print(f'x_train_s: {x_train_s.min(axis=0)}/{x_train_s.max(axis=0)}')"
      ],
      "metadata": {
        "id": "gHnDpkGj4vkk",
        "colab": {
          "base_uri": "https://localhost:8080/"
        },
        "outputId": "afdd33a6-d51a-45b5-b8c6-9e34aa01cd4c"
      },
      "execution_count": null,
      "outputs": [
        {
          "output_type": "stream",
          "name": "stdout",
          "text": [
            "x_train_s: [-1. -1. -1.]/[1. 1. 1.]\n"
          ]
        }
      ]
    },
    {
      "cell_type": "markdown",
      "source": [
        "El tercer paso es tomar el escalador (`scaler`) y usar el método `transform()` para transformar (escalar) los sets de validación (`x_val`) y prueba (`x_test`):"
      ],
      "metadata": {
        "id": "DibC4xix4-nx"
      }
    },
    {
      "cell_type": "code",
      "source": [
        "x_val_s = scaler.transform(x_val)\n",
        "x_test_s = scaler.transform(x_test)"
      ],
      "metadata": {
        "id": "HetJqytd5JI8"
      },
      "execution_count": null,
      "outputs": []
    },
    {
      "cell_type": "markdown",
      "source": [
        "Verifiquemos que ahora el rango de valores en estos dos sets está entre -1 y 1:"
      ],
      "metadata": {
        "id": "K7O3XXSb5OSX"
      }
    },
    {
      "cell_type": "code",
      "source": [
        "print(f'x_val_s: {x_val_s.min(axis=0)}/{x_val_s.max(axis=0)}')\n",
        "print(f'x_test_: {x_test_s.min(axis=0)}/{x_test_s.max(axis=0)}')"
      ],
      "metadata": {
        "id": "1fgdK5RT5T5S",
        "colab": {
          "base_uri": "https://localhost:8080/"
        },
        "outputId": "352d4cc2-dc47-441f-885a-3b65929b3939"
      },
      "execution_count": null,
      "outputs": [
        {
          "output_type": "stream",
          "name": "stdout",
          "text": [
            "x_val_s: [-0.92099839 -0.63779388 -0.97682033]/[0.78145805 0.66593117 0.03866878]\n",
            "x_test_: [-0.66030514 -1.05004718 -0.88429383]/[0.44837189 1.42304589 0.84012492]\n"
          ]
        }
      ]
    },
    {
      "cell_type": "markdown",
      "source": [
        "Vemos que se realiza el escalamiento pero los valores mínimos y máximos no son exactamente -1 y 1. Esto debido a que el escalamiento se realiza **con base en los valores máximos y mínimos del set de entrenamiento** que no necesariamente son iguales a los de los sets de validación y prueba."
      ],
      "metadata": {
        "id": "dIDQyu9r5bek"
      }
    },
    {
      "cell_type": "markdown",
      "source": [
        "## 5. Crear, entrenar y validar el modelo: estimadores\n",
        "\n",
        "En Scikit-Learn los modelos se denominan estimadores.\n",
        "\n",
        "La secuencia de uso es la siguiente:\n",
        "\n",
        "1. Crear una instancia del estimador\n",
        "2. Entrenar el modelo con el set de entrenamiento y el método `fit()`\n",
        "3. Validar el modelo con los sets de entrenamiento y validación usando el método `score()`\n",
        "4. Poner a prueba el modelo con el set de prueba y usando los métodos `predict()` y `score()`\n",
        "\n",
        "Veamos en detalle cada uno de estos pasos. Supongamos que tomaremos el set de datos que hemos venido usando para crear, entrenar, validar y poner a prueba un Bosque Aleatorio.\n",
        "\n",
        "El primer paso es crear una instancia de este estimador (`RandomForestClassifier`):"
      ],
      "metadata": {
        "id": "BtFsAQYJg-JL"
      }
    },
    {
      "cell_type": "code",
      "source": [
        "# Importar el módulo\n",
        "from sklearn.ensemble import RandomForestClassifier\n",
        "\n",
        "# Y crear la instancia\n",
        "bosque = RandomForestClassifier()"
      ],
      "metadata": {
        "id": "DhW7NXXR8CAz"
      },
      "execution_count": null,
      "outputs": []
    },
    {
      "cell_type": "markdown",
      "source": [
        "El segundo paso es entrenarlo. Para ello usamos el método `fit()` y le presentamos como argumentos el set de entrenamiento (`x_train`, `y_train`):"
      ],
      "metadata": {
        "id": "O3M0E1oF8Hxf"
      }
    },
    {
      "cell_type": "code",
      "source": [
        "# 2. Entrenamiento\n",
        "bosque.fit(x_train, y_train)"
      ],
      "metadata": {
        "id": "h9-b1nLndyLw",
        "colab": {
          "base_uri": "https://localhost:8080/",
          "height": 74
        },
        "outputId": "ef27c14a-cd8d-4d02-b82c-02b69311c2c9"
      },
      "execution_count": null,
      "outputs": [
        {
          "output_type": "execute_result",
          "data": {
            "text/plain": [
              "RandomForestClassifier()"
            ],
            "text/html": [
              "<style>#sk-container-id-1 {color: black;background-color: white;}#sk-container-id-1 pre{padding: 0;}#sk-container-id-1 div.sk-toggleable {background-color: white;}#sk-container-id-1 label.sk-toggleable__label {cursor: pointer;display: block;width: 100%;margin-bottom: 0;padding: 0.3em;box-sizing: border-box;text-align: center;}#sk-container-id-1 label.sk-toggleable__label-arrow:before {content: \"▸\";float: left;margin-right: 0.25em;color: #696969;}#sk-container-id-1 label.sk-toggleable__label-arrow:hover:before {color: black;}#sk-container-id-1 div.sk-estimator:hover label.sk-toggleable__label-arrow:before {color: black;}#sk-container-id-1 div.sk-toggleable__content {max-height: 0;max-width: 0;overflow: hidden;text-align: left;background-color: #f0f8ff;}#sk-container-id-1 div.sk-toggleable__content pre {margin: 0.2em;color: black;border-radius: 0.25em;background-color: #f0f8ff;}#sk-container-id-1 input.sk-toggleable__control:checked~div.sk-toggleable__content {max-height: 200px;max-width: 100%;overflow: auto;}#sk-container-id-1 input.sk-toggleable__control:checked~label.sk-toggleable__label-arrow:before {content: \"▾\";}#sk-container-id-1 div.sk-estimator input.sk-toggleable__control:checked~label.sk-toggleable__label {background-color: #d4ebff;}#sk-container-id-1 div.sk-label input.sk-toggleable__control:checked~label.sk-toggleable__label {background-color: #d4ebff;}#sk-container-id-1 input.sk-hidden--visually {border: 0;clip: rect(1px 1px 1px 1px);clip: rect(1px, 1px, 1px, 1px);height: 1px;margin: -1px;overflow: hidden;padding: 0;position: absolute;width: 1px;}#sk-container-id-1 div.sk-estimator {font-family: monospace;background-color: #f0f8ff;border: 1px dotted black;border-radius: 0.25em;box-sizing: border-box;margin-bottom: 0.5em;}#sk-container-id-1 div.sk-estimator:hover {background-color: #d4ebff;}#sk-container-id-1 div.sk-parallel-item::after {content: \"\";width: 100%;border-bottom: 1px solid gray;flex-grow: 1;}#sk-container-id-1 div.sk-label:hover label.sk-toggleable__label {background-color: #d4ebff;}#sk-container-id-1 div.sk-serial::before {content: \"\";position: absolute;border-left: 1px solid gray;box-sizing: border-box;top: 0;bottom: 0;left: 50%;z-index: 0;}#sk-container-id-1 div.sk-serial {display: flex;flex-direction: column;align-items: center;background-color: white;padding-right: 0.2em;padding-left: 0.2em;position: relative;}#sk-container-id-1 div.sk-item {position: relative;z-index: 1;}#sk-container-id-1 div.sk-parallel {display: flex;align-items: stretch;justify-content: center;background-color: white;position: relative;}#sk-container-id-1 div.sk-item::before, #sk-container-id-1 div.sk-parallel-item::before {content: \"\";position: absolute;border-left: 1px solid gray;box-sizing: border-box;top: 0;bottom: 0;left: 50%;z-index: -1;}#sk-container-id-1 div.sk-parallel-item {display: flex;flex-direction: column;z-index: 1;position: relative;background-color: white;}#sk-container-id-1 div.sk-parallel-item:first-child::after {align-self: flex-end;width: 50%;}#sk-container-id-1 div.sk-parallel-item:last-child::after {align-self: flex-start;width: 50%;}#sk-container-id-1 div.sk-parallel-item:only-child::after {width: 0;}#sk-container-id-1 div.sk-dashed-wrapped {border: 1px dashed gray;margin: 0 0.4em 0.5em 0.4em;box-sizing: border-box;padding-bottom: 0.4em;background-color: white;}#sk-container-id-1 div.sk-label label {font-family: monospace;font-weight: bold;display: inline-block;line-height: 1.2em;}#sk-container-id-1 div.sk-label-container {text-align: center;}#sk-container-id-1 div.sk-container {/* jupyter's `normalize.less` sets `[hidden] { display: none; }` but bootstrap.min.css set `[hidden] { display: none !important; }` so we also need the `!important` here to be able to override the default hidden behavior on the sphinx rendered scikit-learn.org. See: https://github.com/scikit-learn/scikit-learn/issues/21755 */display: inline-block !important;position: relative;}#sk-container-id-1 div.sk-text-repr-fallback {display: none;}</style><div id=\"sk-container-id-1\" class=\"sk-top-container\"><div class=\"sk-text-repr-fallback\"><pre>RandomForestClassifier()</pre><b>In a Jupyter environment, please rerun this cell to show the HTML representation or trust the notebook. <br />On GitHub, the HTML representation is unable to render, please try loading this page with nbviewer.org.</b></div><div class=\"sk-container\" hidden><div class=\"sk-item\"><div class=\"sk-estimator sk-toggleable\"><input class=\"sk-toggleable__control sk-hidden--visually\" id=\"sk-estimator-id-1\" type=\"checkbox\" checked><label for=\"sk-estimator-id-1\" class=\"sk-toggleable__label sk-toggleable__label-arrow\">RandomForestClassifier</label><div class=\"sk-toggleable__content\"><pre>RandomForestClassifier()</pre></div></div></div></div></div>"
            ]
          },
          "metadata": {},
          "execution_count": 16
        }
      ]
    },
    {
      "cell_type": "markdown",
      "source": [
        "El tercer paso es validar el modelo. Esto quiere decir que la idea es comparar el desempeño con los sets de entrenamiento y validación, para determinar si hay o no *overfitting* u *underfitting*.\n",
        "\n",
        "El desempeño es simplemente una métrica que cuantifica qué tan bien lo esta haciendo el modelo.\n",
        "\n",
        "Verifiquemos en este caso cuál es el desempeño usado por defecto por el bosque aleatorio:"
      ],
      "metadata": {
        "id": "So00zT_C8jMa"
      }
    },
    {
      "cell_type": "code",
      "source": [
        "bosque.score"
      ],
      "metadata": {
        "id": "6bVohNE78dIp",
        "colab": {
          "base_uri": "https://localhost:8080/",
          "height": 185
        },
        "outputId": "85bf7a13-696e-4897-ca79-bdf7b5bda92c"
      },
      "execution_count": null,
      "outputs": [
        {
          "output_type": "execute_result",
          "data": {
            "text/plain": [
              "<bound method ClassifierMixin.score of RandomForestClassifier()>"
            ],
            "text/html": [
              "<div style=\"max-width:800px; border: 1px solid var(--colab-border-color);\"><style>\n",
              "      pre.function-repr-contents {\n",
              "        overflow-x: auto;\n",
              "        padding: 8px 12px;\n",
              "        max-height: 500px;\n",
              "      }\n",
              "\n",
              "      pre.function-repr-contents.function-repr-contents-collapsed {\n",
              "        cursor: pointer;\n",
              "        max-height: 100px;\n",
              "      }\n",
              "    </style>\n",
              "    <pre style=\"white-space: initial; background:\n",
              "         var(--colab-secondary-surface-color); padding: 8px 12px;\n",
              "         border-bottom: 1px solid var(--colab-border-color);\"><b>sklearn.base.ClassifierMixin.score</b><br/>def score(X, y, sample_weight=None)</pre><pre class=\"function-repr-contents function-repr-contents-collapsed\" style=\"\"><a class=\"filepath\" style=\"display:none\" href=\"#\">/usr/local/lib/python3.10/dist-packages/sklearn/base.py</a>Return the mean accuracy on the given test data and labels.\n",
              "\n",
              "In multi-label classification, this is the subset accuracy\n",
              "which is a harsh metric since you require for each sample that\n",
              "each label set be correctly predicted.\n",
              "\n",
              "Parameters\n",
              "----------\n",
              "X : array-like of shape (n_samples, n_features)\n",
              "    Test samples.\n",
              "\n",
              "y : array-like of shape (n_samples,) or (n_samples, n_outputs)\n",
              "    True labels for `X`.\n",
              "\n",
              "sample_weight : array-like of shape (n_samples,), default=None\n",
              "    Sample weights.\n",
              "\n",
              "Returns\n",
              "-------\n",
              "score : float\n",
              "    Mean accuracy of ``self.predict(X)`` w.r.t. `y`.</pre>\n",
              "      <script>\n",
              "      if (google.colab.kernel.accessAllowed && google.colab.files && google.colab.files.view) {\n",
              "        for (const element of document.querySelectorAll('.filepath')) {\n",
              "          element.style.display = 'block'\n",
              "          element.onclick = (event) => {\n",
              "            event.preventDefault();\n",
              "            event.stopPropagation();\n",
              "            google.colab.files.view(element.textContent, 642);\n",
              "          };\n",
              "        }\n",
              "      }\n",
              "      for (const element of document.querySelectorAll('.function-repr-contents')) {\n",
              "        element.onclick = (event) => {\n",
              "          event.preventDefault();\n",
              "          event.stopPropagation();\n",
              "          element.classList.toggle('function-repr-contents-collapsed');\n",
              "        };\n",
              "      }\n",
              "      </script>\n",
              "      </div>"
            ]
          },
          "metadata": {},
          "execution_count": 17
        }
      ]
    },
    {
      "cell_type": "markdown",
      "source": [
        "Vemos que el desempeño se está midiendo con la exactitud promedio (*mean accuracy*).\n",
        "\n",
        "Así que calculemos el desempeño con los sets de entrenamiento y validación:"
      ],
      "metadata": {
        "id": "KwJW49O98ZGF"
      }
    },
    {
      "cell_type": "code",
      "source": [
        "print(f'Exactitud promedio entrenamiento: {bosque.score(x_train,y_train)}')\n",
        "print(f'Exactitud promedio validación: {bosque.score(x_val, y_val)}')"
      ],
      "metadata": {
        "id": "opxuxhz98Xk8",
        "colab": {
          "base_uri": "https://localhost:8080/"
        },
        "outputId": "7d7ae99e-2890-4ec6-b084-9ea1ed903cf5"
      },
      "execution_count": null,
      "outputs": [
        {
          "output_type": "stream",
          "name": "stdout",
          "text": [
            "Exactitud promedio entrenamiento: 1.0\n",
            "Exactitud promedio validación: 0.5\n"
          ]
        }
      ]
    },
    {
      "cell_type": "markdown",
      "source": [
        "En este caso vemos que el modelo tiene *overfitting*, pues alcanza un 100% de exactitud con el set de entrenamiento y tan sólo un 50% con el set de prueba.\n",
        "\n",
        "En realidad es de esperar pues tenemos poquísimos datos y no hemos modificado ningún parámetro por defecto del modelo.\n",
        "\n",
        "En una situación real deberíamos recolectar más datos y re-entrenar el modelo, posiblemente afinando sus hiperparámetros (pero esto será tema de un tutorial más avanzado).\n",
        "\n",
        "El cuarto y último paso es poner a prueba el modelo. Para ello podemos primero ver el *score* con el set de prueba:"
      ],
      "metadata": {
        "id": "KbrhJUeW9JYC"
      }
    },
    {
      "cell_type": "code",
      "source": [
        "bosque.score(x_test,y_test)"
      ],
      "metadata": {
        "id": "sEZ8p5Fv9ozH",
        "colab": {
          "base_uri": "https://localhost:8080/"
        },
        "outputId": "17e2c99b-2192-4c28-df63-c43bf51d8085"
      },
      "execution_count": null,
      "outputs": [
        {
          "output_type": "execute_result",
          "data": {
            "text/plain": [
              "0.5"
            ]
          },
          "metadata": {},
          "execution_count": 19
        }
      ]
    },
    {
      "cell_type": "markdown",
      "source": [
        "Que sigue siendo del 50% por los mismos motivos mencionados anteriormente.\n",
        "\n",
        "Y, suponiendo que estamos conformes con estos resultados, lo que faltaría sería generar predicciones usando el método `predict()`.\n",
        "\n",
        "Tomemos nuevamente el set de prueba y generemos predicciones con el modelo entrenado:"
      ],
      "metadata": {
        "id": "Yjik1h-89rY2"
      }
    },
    {
      "cell_type": "code",
      "source": [
        "y_pred = bosque.predict(x_test)"
      ],
      "metadata": {
        "id": "n2v1nAla94vk"
      },
      "execution_count": null,
      "outputs": []
    },
    {
      "cell_type": "markdown",
      "source": [
        "Y como tenemos tan pocos datos podemos imprimir el comparativo entre las categorías reales (almacenadas en `y_test`) y las categorías predichas (almacenadas en `y_pred`):"
      ],
      "metadata": {
        "id": "rFwbN8kU982L"
      }
    },
    {
      "cell_type": "code",
      "source": [
        "print('Categorías reales:   ', y_test)\n",
        "print('Categorías predichas:', y_pred)"
      ],
      "metadata": {
        "id": "ZrIPslbZi5AK",
        "colab": {
          "base_uri": "https://localhost:8080/"
        },
        "outputId": "ae61a1ec-3026-4c75-f21b-99afb7364961"
      },
      "execution_count": null,
      "outputs": [
        {
          "output_type": "stream",
          "name": "stdout",
          "text": [
            "Categorías reales:    [0 1 0 0]\n",
            "Categorías predichas: [1 0 0 0]\n"
          ]
        }
      ]
    },
    {
      "cell_type": "markdown",
      "source": [
        "Y vemos que en efecto de los 4 datos sólo dos (los dos últimos) son clasificados correctamente."
      ],
      "metadata": {
        "id": "TXde_L7P-KDk"
      }
    },
    {
      "cell_type": "markdown",
      "source": [
        "## 6. *Pipelines* (tuberías????)\n",
        "\n",
        "Es posible combinar transformadores y estimadores en un sólo objeto: una *pipeline*.\n",
        "\n",
        "Una *pipeline* nos permite hacer lo mismo que con los bloques separados, pero tiene ciertas ventajas:\n",
        "\n",
        "1. El código es más compacto\n",
        "2. Evita lo que se conoce como la fuga de datos (*data leakage*): que los datos de validación sean \"vistos\" por el modelo cuando hacemos el entrenamiento\n",
        "\n",
        "Para hacer un comparativo veamos primero cómo sería el flujo completo de trabajo sin *pipelines*:"
      ],
      "metadata": {
        "id": "Zy6KK9A7jtdr"
      }
    },
    {
      "cell_type": "code",
      "source": [
        "# Flujo de trabajo sin \"pipelines\"\n",
        "import numpy as np\n",
        "from sklearn.model_selection import train_test_split\n",
        "from sklearn.preprocessing import MinMaxScaler\n",
        "from sklearn.ensemble import RandomForestClassifier\n",
        "\n",
        "# Leer datos\n",
        "X = np.load('/content/particiones-datos-balanceados.npz')['X']\n",
        "Y = np.load('/content/particiones-datos-balanceados.npz')['Y']\n",
        "\n",
        "# Partición en entrenamiento, validación y prueba\n",
        "x_train, x_resto, y_train, y_resto = train_test_split(\n",
        "    X, Y, test_size=0.4, random_state=123\n",
        ")\n",
        "x_val, x_test, y_val, y_test = train_test_split(\n",
        "    x_resto, y_resto, test_size=0.5, random_state=321\n",
        ")\n",
        "\n",
        "# Escalamiento\n",
        "scaler = MinMaxScaler(feature_range=(-1,1))\n",
        "x_train_s = scaler.fit_transform(x_train)\n",
        "x_val_s = scaler.transform(x_val)\n",
        "x_test_s = scaler.transform(x_test)\n",
        "\n",
        "# Creación, entrenamiento y validación del modelo\n",
        "bosque = RandomForestClassifier()\n",
        "bosque.fit(x_train, y_train)\n",
        "print(bosque.score(x_test,y_test))\n",
        "\n",
        "# Generación de predicciones\n",
        "print(bosque.predict(x_test))"
      ],
      "metadata": {
        "id": "Qfu8F2xwjl4B",
        "colab": {
          "base_uri": "https://localhost:8080/"
        },
        "outputId": "e3e4e300-421d-4eb8-f3bc-b87ee75fba95"
      },
      "execution_count": null,
      "outputs": [
        {
          "output_type": "stream",
          "name": "stdout",
          "text": [
            "0.5\n",
            "[0 1 1 0]\n"
          ]
        }
      ]
    },
    {
      "cell_type": "code",
      "source": [
        "# Con pipelines\n",
        "\n",
        "from sklearn.pipeline import Pipeline\n",
        "from sklearn.model_selection import train_test_split\n",
        "from sklearn.preprocessing import MinMaxScaler\n",
        "from sklearn.ensemble import RandomForestClassifier\n",
        "\n",
        "# Leer datos\n",
        "X = np.load('/content/particiones-datos-balanceados.npz')['X']\n",
        "Y = np.load('/content/particiones-datos-balanceados.npz')['Y']\n",
        "\n",
        "# Partición en entrenamiento, validación y prueba\n",
        "x_train, x_resto, y_train, y_resto = train_test_split(\n",
        "    X, Y, test_size=0.4, random_state=123\n",
        ")\n",
        "x_val, x_test, y_val, y_test = train_test_split(\n",
        "    x_resto, y_resto, test_size=0.5, random_state=321\n",
        ")\n",
        "\n",
        "#------- PIPELINE: SE INTERCONECTAN PREPROCESAMIENTO Y MODELO -------\n",
        "\n",
        "# Instanciar la pipeline\n",
        "pipeline = Pipeline([\n",
        "    ('scaler', MinMaxScaler(feature_range=(-1,1))),\n",
        "    ('classifier', RandomForestClassifier())\n",
        "])\n",
        "\n",
        "# Entrenar la pipeline\n",
        "pipeline.fit(x_train, y_train)\n",
        "\n",
        "# Evaluar la pipeline\n",
        "print(pipeline.score(x_test, y_test))\n",
        "\n",
        "# Y generar predicciones\n",
        "print(pipeline.predict(x_test))"
      ],
      "metadata": {
        "id": "N1NN17gGltxm",
        "colab": {
          "base_uri": "https://localhost:8080/"
        },
        "outputId": "423dda40-41fb-4990-8eb9-6e999c1d5ef7"
      },
      "execution_count": null,
      "outputs": [
        {
          "output_type": "stream",
          "name": "stdout",
          "text": [
            "0.25\n",
            "[0 1 0 0]\n"
          ]
        }
      ]
    },
    {
      "cell_type": "code",
      "source": [],
      "metadata": {
        "id": "3arcgVDUsq1c"
      },
      "execution_count": null,
      "outputs": []
    }
  ]
}